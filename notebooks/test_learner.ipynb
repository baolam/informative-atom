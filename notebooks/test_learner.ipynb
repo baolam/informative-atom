{
 "cells": [
  {
   "cell_type": "code",
   "execution_count": 8,
   "id": "4231f761",
   "metadata": {},
   "outputs": [],
   "source": [
    "import sys\n",
    "sys.path.append(\"../\")\n",
    "\n",
    "from uuid import uuid4\n",
    "from torch import randn\n",
    "from fgi import *"
   ]
  },
  {
   "cell_type": "code",
   "execution_count": 9,
   "id": "02a42116",
   "metadata": {},
   "outputs": [],
   "source": [
    "def generate():\n",
    "    return str(uuid4())"
   ]
  },
  {
   "cell_type": "code",
   "execution_count": 37,
   "id": "a1de3e9f",
   "metadata": {},
   "outputs": [],
   "source": [
    "class Person:\n",
    "    def __init__(self, gender : bool, name : str, age : int, *args, **kwargs):\n",
    "        self.gender = gender\n",
    "        self.name = name\n",
    "        self.age = age\n",
    "    \n",
    "    def __str__(self):\n",
    "        return f\"{self.name}, {self.gender}, {self.age}\"\n",
    "    \n",
    "    def hello(self, name):\n",
    "        print(f\"{self.name} xin chao {name}\")"
   ]
  },
  {
   "cell_type": "code",
   "execution_count": 38,
   "id": "94d375fc",
   "metadata": {},
   "outputs": [],
   "source": [
    "class FunnyRepresent(SoftRepresentUnit):\n",
    "    def __init__(self, _id, *args, **kwargs):\n",
    "        super().__init__(_id, *args, **kwargs)\n",
    "    \n",
    "    def forward(self, x, *args, **kwargs):\n",
    "        return x"
   ]
  },
  {
   "cell_type": "code",
   "execution_count": null,
   "id": "6cdee253",
   "metadata": {},
   "outputs": [],
   "source": [
    "class PersonProblem(NonCodeProblem):\n",
    "    def __init__(self, _id, *args, **kwargs):\n",
    "        super().__init__(_id, *args, **kwargs)\n",
    "        self._represent = RepresentLayer.from_units(\n",
    "            [FunnyRepresent(generate()) for _ in range(4)], \n",
    "            generate()\n",
    "        )\n",
    "        self._co_represent = CoRepresentLayer.from_units(\n",
    "            [CoRepresentUnit(generate(), 4, phi_dim=128) for _ in range(4)], generate()\n",
    "        )\n",
    "        self._property = PropertyLayer.from_units(\n",
    "            [PropertyUnit(generate(), phi_dim=128) for _ in range(4)], generate()\n",
    "        )\n",
    "        self._copropery = CoPropertyLayer.from_units(\n",
    "            [\n",
    "                ChooseOptions(generate(), 4, options=[\"male\", \"female\"], property_name=\"gender\", phi_dim=128),\n",
    "                Regression(generate(), 4, phi_dim=128, property_name=\"age\")\n",
    "            ],\n",
    "            generate()\n",
    "        )\n",
    "\n",
    "        self._update_additional_infor()\n",
    "\n",
    "    def forward(self, x, *args, **kwargs):\n",
    "        x = self._represent(x)\n",
    "        x = self._co_represent(x)\n",
    "        x = self._property(x)\n",
    "        x = self._copropery(x)\n",
    "        return x\n",
    "    \n",
    "    @property\n",
    "    def _as_object(self):\n",
    "        return Person\n",
    "    \n",
    "    def as_instance(self, x, skip_inference : bool = False, *args, **kwargs):\n",
    "        if not skip_inference:\n",
    "            x = self.forward(x)\n",
    "        data = self._copropery.intepret(x)\n",
    "        data.update(**kwargs)\n",
    "        return self._as_object(**data)\n",
    "    \n",
    "    def recognize_unknown(self, *args, **kwargs):\n",
    "        pass"
   ]
  },
  {
   "cell_type": "code",
   "execution_count": 56,
   "id": "df8b8bb7",
   "metadata": {},
   "outputs": [],
   "source": [
    "solver = PersonProblem(generate())"
   ]
  },
  {
   "cell_type": "code",
   "execution_count": 57,
   "id": "dbe9d20b",
   "metadata": {},
   "outputs": [],
   "source": [
    "x = randn(1, 128)\n",
    "y = solver(x)"
   ]
  },
  {
   "cell_type": "code",
   "execution_count": 43,
   "id": "aee439d2",
   "metadata": {},
   "outputs": [],
   "source": [
    "person = solver.as_instance(y, skip_inference=True, name=\"Haha\")"
   ]
  },
  {
   "cell_type": "code",
   "execution_count": 44,
   "id": "c88f2bc8",
   "metadata": {},
   "outputs": [
    {
     "name": "stdout",
     "output_type": "stream",
     "text": [
      "Haha xin chao Hehe\n"
     ]
    }
   ],
   "source": [
    "person.hello(\"Hehe\")"
   ]
  },
  {
   "cell_type": "code",
   "execution_count": 58,
   "id": "4d2052f2",
   "metadata": {},
   "outputs": [],
   "source": [
    "class PersonLearner(LightningLearner):\n",
    "    def __init__(self, problem, *args, **kwargs):\n",
    "        super().__init__(problem, *args, **kwargs)\n",
    "    \n",
    "    def _aggerate_loss(self, y_hat, y, *args, **kwargs):\n",
    "        return 0"
   ]
  },
  {
   "cell_type": "code",
   "execution_count": 59,
   "id": "aa6081e5",
   "metadata": {},
   "outputs": [
    {
     "name": "stdout",
     "output_type": "stream",
     "text": [
      "{'type': 'PersonProblem', 'detail': {'_co_represent': {'type': 'CoRepresentLayer', 'components': {'5ff86b35-b214-4109-8cd5-9fa3f467f16f': {'type': 'CoRepresentUnit'}, '4a8f1805-312b-40d0-888e-6a501b0b7ebd': {'type': 'CoRepresentUnit'}, '32c9dd28-3ccf-4b0a-9949-f5d2258ebf14': {'type': 'CoRepresentUnit'}, '7584d36e-baf5-4782-a465-4cbec6969a67': {'type': 'CoRepresentUnit'}}}, '_copropery': {'type': 'CoPropertyLayer', 'components': {'991a2664-5822-453e-8a1e-8dc939cd0d9d': {'type': 'ChooseOptions', 'property': 'gender', 'options': ['male', 'female', 'gay', 'les']}, 'f9a831cb-5f42-42ee-b5b2-163181bc97bd': {'type': 'Regression', 'property': 'age'}}}, '_property': {'type': 'PropertyLayer', 'components': {'9226d905-134b-4a5d-8872-ae8f2c5fa5c5': {'type': 'PropertyUnit'}, '41c2ffb5-b281-49f3-9ece-33fb0df21af4': {'type': 'PropertyUnit'}, '93b96df6-1e2b-46cd-901e-b553ab3aeaeb': {'type': 'PropertyUnit'}, '572b2194-6975-45bc-a93a-3da644054fba': {'type': 'PropertyUnit'}}}, '_represent': {'type': 'RepresentLayer', 'components': {'06a3320d-4686-412e-9468-b679ab9eed16': {'type': 'FunnyRepresent'}, 'ee8ec538-7684-4915-9581-e081a3398236': {'type': 'FunnyRepresent'}, 'd49cd889-0b63-48d2-9d85-17b793fbc82f': {'type': 'FunnyRepresent'}, '42ea6787-d85e-4b5a-a0f4-9c731de4e516': {'type': 'FunnyRepresent'}}}}, 'properties': ['gender', 'age']}\n"
     ]
    }
   ],
   "source": [
    "print(solver.metadata)\n",
    "learner = PersonLearner(solver)"
   ]
  },
  {
   "cell_type": "code",
   "execution_count": null,
   "id": "ede0b038",
   "metadata": {},
   "outputs": [],
   "source": []
  }
 ],
 "metadata": {
  "kernelspec": {
   "display_name": "Python 3",
   "language": "python",
   "name": "python3"
  },
  "language_info": {
   "codemirror_mode": {
    "name": "ipython",
    "version": 3
   },
   "file_extension": ".py",
   "mimetype": "text/x-python",
   "name": "python",
   "nbconvert_exporter": "python",
   "pygments_lexer": "ipython3",
   "version": "3.12.3"
  }
 },
 "nbformat": 4,
 "nbformat_minor": 5
}
