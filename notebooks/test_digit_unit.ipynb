{
 "cells": [
  {
   "cell_type": "code",
   "execution_count": null,
   "id": "a84c5bc5",
   "metadata": {},
   "outputs": [],
   "source": [
    "import sys\n",
    "sys.path.append(\"../\")\n",
    "\n",
    "from fgi import *\n",
    "from torch import nn, randn, cat\n",
    "from torch import optim\n",
    "from torch.utils.data import DataLoader\n",
    "from torch.utils.tensorboard import SummaryWriter\n",
    "import torchvision\n",
    "from lightning.pytorch import Trainer"
   ]
  },
  {
   "cell_type": "code",
   "execution_count": null,
   "id": "ed968ac9",
   "metadata": {},
   "outputs": [],
   "source": [
    "class Digit:\n",
    "    def __init__(self, digit, *args, **kwargs):\n",
    "        self.digit = int(digit)\n",
    "    \n",
    "    def __str__(self):\n",
    "        return f\"{self.digit}\""
   ]
  },
  {
   "cell_type": "code",
   "execution_count": null,
   "id": "7f2a597e",
   "metadata": {},
   "outputs": [],
   "source": [
    "class DigitClassification(NonCodeProblem):\n",
    "    def __init__(self, _id, *args, **kwargs):\n",
    "        super().__init__(_id, *args, **kwargs)\n",
    "        self._represent_unit = RepresentLayer.from_units([ImageRepresent(img_shape=(1, 28, 28), patch_size=7, num_heads=1, phi_dim=128)], output_dim=128)\n",
    "        self._property = PropertyLayer.from_units([PropertyUnit(phi_dim=128) for _ in range(2)])\n",
    "        self._choose = CoPropertyLayer.from_units([ChooseOptions(2, options=[\"0\", \"1\", \"2\", \"3\", \"4\", \"5\", \"6\", \"7\", \"8\", \"9\"], property_name=\"digit\", phi_dim=128)])\n",
    "\n",
    "        self._update_additional_infor()\n",
    "\n",
    "    def forward(self, x, *args, **kwargs):\n",
    "        x = self._represent_unit(x)\n",
    "        x = self._property(x)\n",
    "        x = self._choose(x)\n",
    "        return x\n",
    "    \n",
    "    def recognize_unknown(self, *args, **kwargs):\n",
    "        pass\n",
    "\n",
    "    @property\n",
    "    def _as_object(self):\n",
    "        return Digit"
   ]
  },
  {
   "cell_type": "code",
   "execution_count": null,
   "id": "61ed9f5c",
   "metadata": {},
   "outputs": [],
   "source": [
    "class DigitLearner(LightningLearner):\n",
    "    def __init__(self, problem, *args, **kwargs):\n",
    "        super().__init__(problem, *args, **kwargs)\n",
    "        self.loss_infor = (\"digit\", nn.CrossEntropyLoss())\n",
    "    \n",
    "    def _aggerate_loss(self, y_hat, y, *args, **kwargs):\n",
    "        tmp = {  }\n",
    "        tmp[\"digit\"] = self.loss_infor[\"digit\"](y_hat[0], y)\n",
    "        tmp[\"total_loss\"] = tmp[\"digit\"]\n",
    "        return tmp\n",
    "    \n",
    "    def training_step(self, batch, batch_idx, *args, **kwargs):\n",
    "        return super().training_step(batch, batch_idx, on_step=True, *args, **kwargs)\n",
    "    \n",
    "    def validation_step(self, batch, batch_idx, *args, **kwargs):\n",
    "        return super().validation_step(batch, batch_idx, on_step=True ,*args, **kwargs)\n",
    "    \n",
    "    def configure_optimizers(self):\n",
    "        optimizer = optim."
   ]
  },
  {
   "cell_type": "code",
   "execution_count": null,
   "id": "a7a43803",
   "metadata": {},
   "outputs": [],
   "source": [
    "train_loader = torch.utils.data.DataLoader(\n",
    "  torchvision.datasets.MNIST('/files/', train=True, download=True,\n",
    "                             transform=torchvision.transforms.Compose([\n",
    "                               torchvision.transforms.ToTensor(),\n",
    "                               torchvision.transforms.Normalize(\n",
    "                                 (0.1307,), (0.3081,))\n",
    "                             ])),\n",
    "  batch_size=32, shuffle=True, num_workers=7, persistent_workers=True)\n",
    "\n",
    "test_loader = torch.utils.data.DataLoader(\n",
    "  torchvision.datasets.MNIST('/files/', train=False, download=True,\n",
    "                             transform=torchvision.transforms.Compose([\n",
    "                               torchvision.transforms.ToTensor(),\n",
    "                               torchvision.transforms.Normalize(\n",
    "                                 (0.1307,), (0.3081,))\n",
    "                             ])),\n",
    "  batch_size=32, shuffle=True, num_workers=7, persistent_workers=True)"
   ]
  },
  {
   "cell_type": "code",
   "execution_count": null,
   "id": "7e6606e5",
   "metadata": {},
   "outputs": [],
   "source": [
    "solver = DigitClassification(_id=\"digit_classification\")\n",
    "learner = DigitLearner(solver)\n",
    "for _id in learner.learnable.keys():\n",
    "    learner.learnable = (_id, True)\n",
    "learner.compile(optim.Adam, device=\"cuda:0\", lr=0.01)"
   ]
  },
  {
   "cell_type": "code",
   "execution_count": null,
   "id": "70513ce9",
   "metadata": {},
   "outputs": [],
   "source": [
    "trainer = Trainer(accelerator=\"auto\", min_epochs=2, max_epochs=5)\n",
    "trainer.fit(learner, train_loader, train_loader)"
   ]
  },
  {
   "cell_type": "code",
   "execution_count": null,
   "id": "46d0e75d",
   "metadata": {},
   "outputs": [],
   "source": [
    "writer = SummaryWriter(log_dir=\"experiment/1\")\n",
    "writer.add_graph(solver, randn(1, 1, 28, 28))\n",
    "writer.close()"
   ]
  },
  {
   "cell_type": "code",
   "execution_count": null,
   "id": "6dff07cf",
   "metadata": {},
   "outputs": [],
   "source": []
  }
 ],
 "metadata": {
  "kernelspec": {
   "display_name": "Python 3",
   "language": "python",
   "name": "python3"
  },
  "language_info": {
   "codemirror_mode": {
    "name": "ipython",
    "version": 3
   },
   "file_extension": ".py",
   "mimetype": "text/x-python",
   "name": "python",
   "nbconvert_exporter": "python",
   "pygments_lexer": "ipython3",
   "version": "3.12.3"
  }
 },
 "nbformat": 4,
 "nbformat_minor": 5
}
