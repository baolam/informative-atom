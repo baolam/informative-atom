{
 "cells": [
  {
   "cell_type": "code",
   "execution_count": 1,
   "id": "bf174b6c",
   "metadata": {},
   "outputs": [],
   "source": [
    "import sys\n",
    "sys.path.append(\"../\")\n",
    "\n",
    "from dataclasses import dataclass, field\n",
    "from architecture.utils.id_management import generate_id\n",
    "from architecture.problem.ProblemSolver import ProblemSolver, ProblemBehavior\n",
    "from architecture.layer.IntepretationLayer import IntepretationLayer\n",
    "from architecture.layer.ForwardLayer import ForwardLayer\n",
    "from architecture.layer.RepresentationLayer import RepresentationLayer\n",
    "from architecture.units.MemoryUnit import MemoryUnit\n",
    "from architecture.units.CombineRepresent import CombineRepresent\n",
    "from architecture.units.PropertyUnit import PropertyUnit\n",
    "from architecture.units.CombineProperty import BooleanUtilization, ScaleUtilization, OptionUtilization\n",
    "from architecture.units.manage import ReadOnlyUnit\n",
    "from architecture.utils.list_operator import ReadOnlyList\n",
    "from architecture.problem.vision.RepresentUnit import FlattenUnit\n",
    "from torch import nn, no_grad, randn"
   ]
  },
  {
   "cell_type": "code",
   "execution_count": 2,
   "id": "6c9c1e30",
   "metadata": {},
   "outputs": [],
   "source": [
    "class ProblemPerson(ProblemSolver):\n",
    "    @dataclass\n",
    "    class PropertyPerson:\n",
    "        name : str = \"\"\n",
    "        age : int = 0\n",
    "        sex : bool = False\n",
    "        role : str = \"\"\n",
    "        extra : dict = field(default_factory=dict)\n",
    "\n",
    "        @classmethod\n",
    "        def from_dict(cls, data: dict):\n",
    "            known_fields = {f.name for f in cls.__dataclass_fields__.values()}\n",
    "            init_fields = {k: v for k, v in data.items() if k in known_fields}\n",
    "            extra_fields = {k: v for k, v in data.items() if k not in known_fields}\n",
    "            obj = cls(**init_fields)\n",
    "            obj.extra = extra_fields\n",
    "            return obj\n",
    "\n",
    "\n",
    "    class NonCode(ProblemBehavior):\n",
    "        def __init__(self, _id=None, phi_dim : int = None, *args, **kwargs):\n",
    "            super().__init__(_id, *args, **kwargs)\n",
    "            self.represent = RepresentationLayer(\n",
    "                [FlattenUnit(metadata={}, phi_dim=phi_dim, num_heads=2, img_shape=(28, 28, 1)) for _ in range(4)]\n",
    "            )\n",
    "            self.mem = MemoryUnit(metadata={}, phi_dim=phi_dim, components=64)\n",
    "            self._combine_represent = ForwardLayer(\n",
    "                ReadOnlyUnit([CombineRepresent(metadata={}, mem_unit=self.mem, phi_dim=phi_dim, m_dim=4) for _ in range(3)])\n",
    "            )\n",
    "            self._properties = ForwardLayer(\n",
    "                ReadOnlyUnit([PropertyUnit(metadata={}, components=64, phi_dim=phi_dim) for _ in range(4)])\n",
    "            )\n",
    "            self.interpretation = IntepretationLayer(\n",
    "                [\n",
    "                    ScaleUtilization(m_dim=4, phi_dim=phi_dim, property_name=\"age\", metadata=dict()),\n",
    "                    BooleanUtilization(m_dim=4, phi_dim=phi_dim, property_name=\"sex\", metadata=dict()),\n",
    "                    OptionUtilization(m_dim=4, phi_dim=phi_dim, property_name=\"role\", metadata=dict(), options=ReadOnlyList([\"teacher\", \"coder\", \"programmer\"]))\n",
    "                ]\n",
    "            )\n",
    "\n",
    "        def interpretation_layer(self):\n",
    "            return self.interpretation\n",
    "\n",
    "        def representation_layer(self):\n",
    "            return self.represent\n",
    "        \n",
    "        def intepret(self, *args, **kwargs):\n",
    "            with no_grad():\n",
    "                r = self._forward(*args, **kwargs)\n",
    "                raw = self.interpretation_layer().intepret(r)\n",
    "            return raw\n",
    "\n",
    "        def _forward(self, x, *args, **kwargs):\n",
    "            r = self.representation_layer()(x, *args, **kwargs)\n",
    "            r = self._combine_represent(r)\n",
    "            r = r.mean(dim=1)\n",
    "            r = self._properties(r)\n",
    "            return r\n",
    "\n",
    "        def forward(self, x, *args, **kwargs):\n",
    "            r = self._forward(x, *args, **kwargs)\n",
    "            out = self.interpretation_layer()(r, *args, **kwargs)\n",
    "            return out\n",
    "        \n",
    "        def recognize(self, *args, **kwargs):\n",
    "            pass\n",
    "        \n",
    "        def save(self, *args, **kwargs):\n",
    "            pass\n",
    "        \n",
    "        @property\n",
    "        def units(self):\n",
    "            pass\n",
    "\n",
    "    class Person:\n",
    "        def __init__(self, *args, **kwargs):\n",
    "            self._infor = ProblemPerson.PropertyPerson.from_dict(kwargs)\n",
    "        \n",
    "        def __str__(self):\n",
    "            return f\"{self._infor.name}, {self._infor.age}\"\n",
    "        \n",
    "        def hello_world(self):\n",
    "            print(f\"Hello {self._infor.name}\")\n",
    "\n",
    "    def __init__(self, *args, **kwargs):\n",
    "        _id = generate_id()\n",
    "        non_coding_behavior = self.NonCode(_id, *args, **kwargs)\n",
    "        super().__init__(non_coding_behavior=non_coding_behavior, *args, **kwargs)\n",
    "    \n",
    "    def as_entity(self, x, *args, **kwargs):\n",
    "        raw = self.noncode.intepret(x, *args, **kwargs)\n",
    "        assert self.satisfy_rules(raw)\n",
    "        raw.update(**kwargs)\n",
    "        return self.Person(**raw)\n",
    "\n",
    "    def recognize(self, *args, **kwargs):\n",
    "        pass\n",
    "\n",
    "    def satisfy_rules(self, raw_property, *args, **kwargs):\n",
    "        print(raw_property)\n",
    "        return True\n",
    "    \n",
    "    def intepret(self, *args, **kwargs):\n",
    "        pass"
   ]
  },
  {
   "cell_type": "code",
   "execution_count": 3,
   "id": "308515cb",
   "metadata": {},
   "outputs": [],
   "source": [
    "problem_solver = ProblemPerson(phi_dim=128)"
   ]
  },
  {
   "cell_type": "code",
   "execution_count": 4,
   "id": "f6a0911b",
   "metadata": {},
   "outputs": [],
   "source": [
    "x = randn(32, 28, 28, 1)"
   ]
  },
  {
   "cell_type": "code",
   "execution_count": 5,
   "id": "c9dbbcb3",
   "metadata": {},
   "outputs": [
    {
     "data": {
      "text/plain": [
       "{'age': tensor([[-0.4041],\n",
       "         [-0.7225],\n",
       "         [-0.8790],\n",
       "         [-0.7698],\n",
       "         [-1.8365],\n",
       "         [-1.5981],\n",
       "         [ 0.0817],\n",
       "         [-0.4488],\n",
       "         [-1.0494],\n",
       "         [-0.4833],\n",
       "         [-0.3567],\n",
       "         [-0.6146],\n",
       "         [-1.2225],\n",
       "         [-1.3197],\n",
       "         [-0.7765],\n",
       "         [-0.8190],\n",
       "         [-1.5614],\n",
       "         [-1.1196],\n",
       "         [-0.8656],\n",
       "         [-0.6057],\n",
       "         [-1.3940],\n",
       "         [-0.6412],\n",
       "         [-1.7297],\n",
       "         [-0.5954],\n",
       "         [-1.5787],\n",
       "         [-0.9156],\n",
       "         [-0.4824],\n",
       "         [-0.9475],\n",
       "         [-0.8723],\n",
       "         [-0.8882],\n",
       "         [-1.0135],\n",
       "         [-1.0594]], grad_fn=<AddmmBackward0>),\n",
       " 'sex': tensor([[0.4186],\n",
       "         [0.4898],\n",
       "         [0.3924],\n",
       "         [0.4450],\n",
       "         [0.4894],\n",
       "         [0.4456],\n",
       "         [0.3554],\n",
       "         [0.4282],\n",
       "         [0.4735],\n",
       "         [0.4701],\n",
       "         [0.4627],\n",
       "         [0.4251],\n",
       "         [0.4855],\n",
       "         [0.4491],\n",
       "         [0.5013],\n",
       "         [0.4823],\n",
       "         [0.4030],\n",
       "         [0.4664],\n",
       "         [0.4959],\n",
       "         [0.4511],\n",
       "         [0.3440],\n",
       "         [0.4650],\n",
       "         [0.4582],\n",
       "         [0.4404],\n",
       "         [0.4536],\n",
       "         [0.4588],\n",
       "         [0.4583],\n",
       "         [0.4313],\n",
       "         [0.4926],\n",
       "         [0.4262],\n",
       "         [0.4150],\n",
       "         [0.4494]], grad_fn=<SigmoidBackward0>),\n",
       " 'role': tensor([[0.3256, 0.3278, 0.3466],\n",
       "         [0.2467, 0.4253, 0.3280],\n",
       "         [0.3588, 0.3377, 0.3035],\n",
       "         [0.2849, 0.3864, 0.3287],\n",
       "         [0.3154, 0.3961, 0.2885],\n",
       "         [0.2745, 0.3727, 0.3528],\n",
       "         [0.2334, 0.3822, 0.3844],\n",
       "         [0.3023, 0.3950, 0.3027],\n",
       "         [0.2072, 0.4704, 0.3224],\n",
       "         [0.3097, 0.3533, 0.3370],\n",
       "         [0.2792, 0.3779, 0.3429],\n",
       "         [0.2890, 0.3831, 0.3279],\n",
       "         [0.2780, 0.3665, 0.3555],\n",
       "         [0.2809, 0.3997, 0.3193],\n",
       "         [0.2872, 0.3573, 0.3555],\n",
       "         [0.3172, 0.3543, 0.3285],\n",
       "         [0.2665, 0.4189, 0.3145],\n",
       "         [0.2872, 0.3958, 0.3170],\n",
       "         [0.3013, 0.3772, 0.3215],\n",
       "         [0.3294, 0.3437, 0.3269],\n",
       "         [0.2722, 0.3687, 0.3591],\n",
       "         [0.2873, 0.3756, 0.3371],\n",
       "         [0.2780, 0.3997, 0.3223],\n",
       "         [0.3200, 0.3169, 0.3631],\n",
       "         [0.2921, 0.3918, 0.3161],\n",
       "         [0.2684, 0.3865, 0.3451],\n",
       "         [0.3170, 0.3597, 0.3233],\n",
       "         [0.2828, 0.3881, 0.3292],\n",
       "         [0.3299, 0.3330, 0.3371],\n",
       "         [0.3067, 0.3277, 0.3656],\n",
       "         [0.3346, 0.3405, 0.3249],\n",
       "         [0.3057, 0.3742, 0.3200]], grad_fn=<SoftmaxBackward0>)}"
      ]
     },
     "execution_count": 5,
     "metadata": {},
     "output_type": "execute_result"
    }
   ],
   "source": [
    "y = problem_solver(x)\n",
    "y"
   ]
  },
  {
   "cell_type": "code",
   "execution_count": 4,
   "id": "cd4595dc",
   "metadata": {},
   "outputs": [],
   "source": [
    "z = randn(1, 28, 28, 1)"
   ]
  },
  {
   "cell_type": "code",
   "execution_count": 5,
   "id": "e95c7899",
   "metadata": {},
   "outputs": [
    {
     "name": "stdout",
     "output_type": "stream",
     "text": [
      "{'age': 0.6224932670593262, 'sex': True, 'sex.raw': 0.56653892993927, 'role': 'programmer', 'role.raw': 0.3963854908943176}\n"
     ]
    }
   ],
   "source": [
    "person = problem_solver.as_entity(z, name=\"Loc\")"
   ]
  },
  {
   "cell_type": "code",
   "execution_count": 6,
   "id": "824ce266",
   "metadata": {},
   "outputs": [
    {
     "name": "stdout",
     "output_type": "stream",
     "text": [
      "Hello Loc\n"
     ]
    }
   ],
   "source": [
    "person.hello_world()"
   ]
  },
  {
   "cell_type": "code",
   "execution_count": 7,
   "id": "19b55c5b",
   "metadata": {},
   "outputs": [
    {
     "name": "stdout",
     "output_type": "stream",
     "text": [
      "Loc, 0.6224932670593262\n"
     ]
    }
   ],
   "source": [
    "print(person)"
   ]
  },
  {
   "cell_type": "code",
   "execution_count": 9,
   "id": "30c06617",
   "metadata": {},
   "outputs": [
    {
     "name": "stdout",
     "output_type": "stream",
     "text": [
      "{'sex.raw': 0.56653892993927, 'role.raw': 0.3963854908943176}\n",
      "programmer\n"
     ]
    }
   ],
   "source": [
    "print(person._infor.extra)\n",
    "print(person._infor.role)"
   ]
  },
  {
   "cell_type": "code",
   "execution_count": null,
   "id": "c7259362",
   "metadata": {},
   "outputs": [],
   "source": []
  }
 ],
 "metadata": {
  "kernelspec": {
   "display_name": "Python 3",
   "language": "python",
   "name": "python3"
  },
  "language_info": {
   "codemirror_mode": {
    "name": "ipython",
    "version": 3
   },
   "file_extension": ".py",
   "mimetype": "text/x-python",
   "name": "python",
   "nbconvert_exporter": "python",
   "pygments_lexer": "ipython3",
   "version": "3.13.5"
  }
 },
 "nbformat": 4,
 "nbformat_minor": 5
}
