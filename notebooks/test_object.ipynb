{
 "cells": [
  {
   "cell_type": "code",
   "execution_count": 1,
   "id": "28ff2199",
   "metadata": {},
   "outputs": [],
   "source": [
    "import sys\n",
    "sys.path.append(\"../\")\n",
    "\n",
    "from fgi import *\n",
    "from torch import randn\n",
    "from uuid import uuid4"
   ]
  },
  {
   "cell_type": "code",
   "execution_count": 2,
   "id": "3cd0971d",
   "metadata": {},
   "outputs": [],
   "source": [
    "PHI_DIM = 128"
   ]
  },
  {
   "cell_type": "code",
   "execution_count": 3,
   "id": "ed0a20ac",
   "metadata": {},
   "outputs": [],
   "source": [
    "# Biểu diễn bài toán\n",
    "class FunnyRepresent(SoftRepresentUnit):\n",
    "    def __init__(self, _id ,*args, **kwargs):\n",
    "        super().__init__(_id, *args, **kwargs)\n",
    "    \n",
    "    def forward(self, x, *args, **kwargs):\n",
    "        return x"
   ]
  },
  {
   "cell_type": "code",
   "execution_count": 4,
   "id": "be365be3",
   "metadata": {},
   "outputs": [],
   "source": [
    "class FunnyOP:\n",
    "    def __init__(self, digit, cute, *args, **kwargs):\n",
    "        self.digit = digit\n",
    "        self.cuteness = cute\n",
    "    \n",
    "    def __str__(self):\n",
    "        return f\"{self.digit}, {self.cuteness}\"\n",
    "    \n",
    "    def call_me(self):\n",
    "        if self.digit == \"1\":\n",
    "            print(f\"Tôi là số {self.digit}!\")\n",
    "    \n",
    "    def am_cute(self):\n",
    "        return \"YES\" if self.cuteness else \"NO\""
   ]
  },
  {
   "cell_type": "code",
   "execution_count": 7,
   "id": "265d51c1",
   "metadata": {},
   "outputs": [],
   "source": [
    "# Bản dựng cho giải quyết vấn đề\n",
    "class FunnyProblem(NonCodeProblem):\n",
    "    def __init__(self, _id, phi_dim ,*args, **kwargs):\n",
    "        super().__init__(_id, *args, **kwargs)\n",
    "\n",
    "        self._represent = RepresentLayer.from_units([\n",
    "            FunnyRepresent(_id=str(uuid4()))\n",
    "            for _ in range(4)\n",
    "        ], _id)\n",
    "        self._co_represent = CoRepresentLayer.from_units([\n",
    "            CoRepresentUnit(str(uuid4()), 4, phi_dim)\n",
    "            for _ in range(2)\n",
    "        ], _id)\n",
    "        self._property = PropertyLayer.from_units([\n",
    "            PropertyUnit(str(uuid4()), phi_dim)\n",
    "            for _ in range(3)\n",
    "        ], _id)\n",
    "        self._co_property : CoPropertyLayer = CoPropertyLayer.from_units([\n",
    "            ChooseOptions(str(uuid4()), 3, options=[\"1\", \"2\", \"3\"], property_name=\"digit\", phi_dim=phi_dim),\n",
    "            Boolean(str(uuid4()), 3, phi_dim, property_name=\"cute\", threshold=0.6)\n",
    "        ], _id)\n",
    "\n",
    "        self._update_additional_infor()\n",
    "        \n",
    "    def forward(self, x, *args, **kwargs):\n",
    "        x = self._represent(x)\n",
    "        x = self._co_represent(x)\n",
    "        x = self._property(x)\n",
    "        x = self._co_property(x)\n",
    "        return x\n",
    "    \n",
    "    def recognize_unknown(self, *args, **kwargs):\n",
    "        pass\n",
    "\n",
    "    @property\n",
    "    def _as_object(self, *args, **kwargs):\n",
    "        return FunnyOP\n",
    "    \n",
    "    def as_instance(self, x, skip_inference : bool = False, *args, **kwargs):\n",
    "        if not skip_inference:\n",
    "            x = self.forward(x)\n",
    "        data = self._co_property.intepret(x)\n",
    "        data.update(**kwargs)\n",
    "        return self._as_object(**data)"
   ]
  },
  {
   "cell_type": "code",
   "execution_count": 8,
   "id": "65c5fe4e",
   "metadata": {},
   "outputs": [],
   "source": [
    "helloworld = FunnyProblem(\"haha\", PHI_DIM)"
   ]
  },
  {
   "cell_type": "code",
   "execution_count": 7,
   "id": "ff372ea0",
   "metadata": {},
   "outputs": [
    {
     "name": "stdout",
     "output_type": "stream",
     "text": [
      "FunnyProblem(\n",
      "  (_represent): RepresentLayer(\n",
      "    (_units): ModuleList(\n",
      "      (0-3): 4 x FunnyRepresent()\n",
      "    )\n",
      "  )\n",
      "  (_co_represent): CoRepresentLayer(\n",
      "    (_units): ModuleList(\n",
      "      (0-1): 2 x CoRepresentUnit(\n",
      "        (_memory): SoftMemoryUnit()\n",
      "        (_combine): Linear(in_features=256, out_features=128, bias=True)\n",
      "        (_activate): SiLU()\n",
      "      )\n",
      "    )\n",
      "  )\n",
      "  (_property): PropertyLayer(\n",
      "    (_units): ModuleList(\n",
      "      (0-2): 3 x PropertyUnit(\n",
      "        (_memory): SoftMemoryUnit()\n",
      "        (_evaluation): Linear(in_features=128, out_features=1, bias=True)\n",
      "        (_norm): LayerNorm((128,), eps=1e-05, elementwise_affine=True)\n",
      "      )\n",
      "    )\n",
      "  )\n",
      "  (_co_property): CoPropertyLayer(\n",
      "    (_units): ModuleList(\n",
      "      (0): ChooseOptions(\n",
      "        (_norm): LayerNorm((128,), eps=1e-05, elementwise_affine=True)\n",
      "        (_enhance): Sequential(\n",
      "          (0): Linear(in_features=128, out_features=128, bias=True)\n",
      "          (1): ELU(alpha=1.0)\n",
      "        )\n",
      "        (_decides): Linear(in_features=128, out_features=3, bias=True)\n",
      "      )\n",
      "      (1): Boolean(\n",
      "        (_norm): LayerNorm((128,), eps=1e-05, elementwise_affine=True)\n",
      "        (_enhance): Sequential(\n",
      "          (0): Linear(in_features=128, out_features=128, bias=True)\n",
      "          (1): ELU(alpha=1.0)\n",
      "        )\n",
      "        (_predicted): Linear(in_features=128, out_features=1, bias=True)\n",
      "      )\n",
      "    )\n",
      "  )\n",
      ")\n"
     ]
    }
   ],
   "source": [
    "# In thử kiến trúc mô hình\n",
    "print(helloworld)"
   ]
  },
  {
   "cell_type": "code",
   "execution_count": 9,
   "id": "84226c9f",
   "metadata": {},
   "outputs": [
    {
     "name": "stdout",
     "output_type": "stream",
     "text": [
      "{'digit': tensor([[0.3357, 0.3304, 0.3340]], grad_fn=<SoftmaxBackward0>), 'cute': tensor([[0.5249]], grad_fn=<SigmoidBackward0>)}\n"
     ]
    }
   ],
   "source": [
    "# Thử dữ liệu ngẫu nhiên\n",
    "x = randn(1, PHI_DIM)\n",
    "#print(x)\n",
    "y = helloworld(x)\n",
    "print(y)"
   ]
  },
  {
   "cell_type": "code",
   "execution_count": null,
   "id": "2d2b36e0",
   "metadata": {},
   "outputs": [],
   "source": [
    "entity = helloworld.as_instance(y, skip_inference=True)"
   ]
  },
  {
   "cell_type": "code",
   "execution_count": 11,
   "id": "f9722d48",
   "metadata": {},
   "outputs": [
    {
     "name": "stdout",
     "output_type": "stream",
     "text": [
      "1, False\n"
     ]
    }
   ],
   "source": [
    "print(entity)"
   ]
  },
  {
   "cell_type": "code",
   "execution_count": 13,
   "id": "67a7c59a",
   "metadata": {},
   "outputs": [
    {
     "data": {
      "text/plain": [
       "'NO'"
      ]
     },
     "execution_count": 13,
     "metadata": {},
     "output_type": "execute_result"
    }
   ],
   "source": [
    "entity.am_cute()"
   ]
  },
  {
   "cell_type": "code",
   "execution_count": 12,
   "id": "6b74df50",
   "metadata": {},
   "outputs": [
    {
     "name": "stdout",
     "output_type": "stream",
     "text": [
      "Name: _co_represent._units.0._weighted, Size: torch.Size([4])\n",
      "Name: _co_represent._units.0._memory._beta, Size: torch.Size([])\n",
      "Name: _co_represent._units.0._memory._patterns, Size: torch.Size([128, 128])\n",
      "Name: _co_represent._units.0._combine.weight, Size: torch.Size([128, 256])\n",
      "Name: _co_represent._units.0._combine.bias, Size: torch.Size([128])\n",
      "Name: _co_represent._units.1._weighted, Size: torch.Size([4])\n",
      "Name: _co_represent._units.1._memory._beta, Size: torch.Size([])\n",
      "Name: _co_represent._units.1._memory._patterns, Size: torch.Size([128, 128])\n",
      "Name: _co_represent._units.1._combine.weight, Size: torch.Size([128, 256])\n",
      "Name: _co_represent._units.1._combine.bias, Size: torch.Size([128])\n",
      "Name: _property._units.0._memory._beta, Size: torch.Size([])\n",
      "Name: _property._units.0._memory._patterns, Size: torch.Size([128, 128])\n",
      "Name: _property._units.0._evaluation.weight, Size: torch.Size([1, 128])\n",
      "Name: _property._units.0._evaluation.bias, Size: torch.Size([1])\n",
      "Name: _property._units.0._norm.weight, Size: torch.Size([128])\n",
      "Name: _property._units.0._norm.bias, Size: torch.Size([128])\n",
      "Name: _property._units.1._memory._beta, Size: torch.Size([])\n",
      "Name: _property._units.1._memory._patterns, Size: torch.Size([128, 128])\n",
      "Name: _property._units.1._evaluation.weight, Size: torch.Size([1, 128])\n",
      "Name: _property._units.1._evaluation.bias, Size: torch.Size([1])\n",
      "Name: _property._units.1._norm.weight, Size: torch.Size([128])\n",
      "Name: _property._units.1._norm.bias, Size: torch.Size([128])\n",
      "Name: _property._units.2._memory._beta, Size: torch.Size([])\n",
      "Name: _property._units.2._memory._patterns, Size: torch.Size([128, 128])\n",
      "Name: _property._units.2._evaluation.weight, Size: torch.Size([1, 128])\n",
      "Name: _property._units.2._evaluation.bias, Size: torch.Size([1])\n",
      "Name: _property._units.2._norm.weight, Size: torch.Size([128])\n",
      "Name: _property._units.2._norm.bias, Size: torch.Size([128])\n",
      "Name: _co_property._units.0._position, Size: torch.Size([3, 128])\n",
      "Name: _co_property._units.0._weighted, Size: torch.Size([3])\n",
      "Name: _co_property._units.0._norm.weight, Size: torch.Size([128])\n",
      "Name: _co_property._units.0._norm.bias, Size: torch.Size([128])\n",
      "Name: _co_property._units.0._enhance.0.weight, Size: torch.Size([128, 128])\n",
      "Name: _co_property._units.0._enhance.0.bias, Size: torch.Size([128])\n",
      "Name: _co_property._units.0._decides.weight, Size: torch.Size([3, 128])\n",
      "Name: _co_property._units.0._decides.bias, Size: torch.Size([3])\n",
      "Name: _co_property._units.1._position, Size: torch.Size([3, 128])\n",
      "Name: _co_property._units.1._weighted, Size: torch.Size([3])\n",
      "Name: _co_property._units.1._norm.weight, Size: torch.Size([128])\n",
      "Name: _co_property._units.1._norm.bias, Size: torch.Size([128])\n",
      "Name: _co_property._units.1._enhance.0.weight, Size: torch.Size([128, 128])\n",
      "Name: _co_property._units.1._enhance.0.bias, Size: torch.Size([128])\n",
      "Name: _co_property._units.1._predicted.weight, Size: torch.Size([1, 128])\n",
      "Name: _co_property._units.1._predicted.bias, Size: torch.Size([1])\n"
     ]
    }
   ],
   "source": [
    "# Thử in các tham số\n",
    "for name, param in helloworld.state_dict().items():\n",
    "    print(f\"Name: {name}, Size: {param.size()}\")"
   ]
  },
  {
   "cell_type": "code",
   "execution_count": 13,
   "id": "ca4b5acc",
   "metadata": {},
   "outputs": [
    {
     "name": "stdout",
     "output_type": "stream",
     "text": [
      "183706\n"
     ]
    }
   ],
   "source": [
    "# Tính tổng số lượng tham số\n",
    "print(sum(p.numel() for p in helloworld.parameters()))"
   ]
  },
  {
   "cell_type": "code",
   "execution_count": 14,
   "id": "5432653f",
   "metadata": {},
   "outputs": [],
   "source": [
    "# Thử nghiệm một số phương thức\n",
    "# Phương thức lấy ra các Layer\n",
    "# members = inspect.getmembers(helloworld)\n",
    "# print(members)"
   ]
  },
  {
   "cell_type": "code",
   "execution_count": 15,
   "id": "4e57849e",
   "metadata": {},
   "outputs": [],
   "source": [
    "# def get_layer(member_value):\n",
    "#     return issubclass(type(member_value), StaticLayer)\n",
    "\n",
    "# filter_members = inspect.getmembers(helloworld, get_layer)"
   ]
  },
  {
   "cell_type": "code",
   "execution_count": 16,
   "id": "45609b1c",
   "metadata": {},
   "outputs": [],
   "source": [
    "# for name, value in filter_members:\n",
    "#     print(name)"
   ]
  },
  {
   "cell_type": "code",
   "execution_count": 17,
   "id": "9034a7d8",
   "metadata": {},
   "outputs": [
    {
     "data": {
      "text/plain": [
       "['_co_property', '_co_represent', '_property', '_represent']"
      ]
     },
     "execution_count": 17,
     "metadata": {},
     "output_type": "execute_result"
    }
   ],
   "source": [
    "helloworld.layer_names"
   ]
  },
  {
   "cell_type": "code",
   "execution_count": 18,
   "id": "3d806b86",
   "metadata": {},
   "outputs": [
    {
     "data": {
      "text/plain": [
       "['6f84d689-f8f6-436c-b1c8-fc2000464087',\n",
       " 'eb88555d-cdd7-4b77-a989-4f829556804d',\n",
       " 'ab6d3933-5803-41d6-ba6c-8e8decdecae7',\n",
       " '2bac83c1-3ec5-4a6b-a8a0-8e33f682c547',\n",
       " '8198fe0e-dc47-49b8-ae06-961a3f0ea89b',\n",
       " '01645218-d6bc-4159-afe5-0f617342f7b8',\n",
       " '5c0fa921-043b-4082-b142-d46f410c0d20',\n",
       " 'b07a3a67-02cd-4c31-bfb8-17815b8af156',\n",
       " 'fde6e05c-78e4-4cef-9d3d-05a3a2f10159',\n",
       " 'a7e3abd8-1335-4913-8d9f-5172b8b1b155',\n",
       " '806d7fa8-49ac-4a8b-a175-66e33dbd2c74']"
      ]
     },
     "execution_count": 18,
     "metadata": {},
     "output_type": "execute_result"
    }
   ],
   "source": [
    "helloworld.units"
   ]
  },
  {
   "cell_type": "code",
   "execution_count": 19,
   "id": "710e1c4e",
   "metadata": {},
   "outputs": [
    {
     "data": {
      "text/plain": [
       "{'type': 'FunnyProblem',\n",
       " 'detail': {'_co_property': {'type': 'CoPropertyLayer',\n",
       "   'components': {'6f84d689-f8f6-436c-b1c8-fc2000464087': {'type': 'ChooseOptions',\n",
       "     'property': 'digit',\n",
       "     'options': ['1', '2', '3']},\n",
       "    'eb88555d-cdd7-4b77-a989-4f829556804d': {'type': 'Boolean',\n",
       "     'property': 'cute',\n",
       "     'threshold': 0.6}}},\n",
       "  '_co_represent': {'type': 'CoRepresentLayer',\n",
       "   'components': {'ab6d3933-5803-41d6-ba6c-8e8decdecae7': {'type': 'CoRepresentUnit'},\n",
       "    '2bac83c1-3ec5-4a6b-a8a0-8e33f682c547': {'type': 'CoRepresentUnit'}}},\n",
       "  '_property': {'type': 'PropertyLayer',\n",
       "   'components': {'8198fe0e-dc47-49b8-ae06-961a3f0ea89b': {'type': 'PropertyUnit'},\n",
       "    '01645218-d6bc-4159-afe5-0f617342f7b8': {'type': 'PropertyUnit'},\n",
       "    '5c0fa921-043b-4082-b142-d46f410c0d20': {'type': 'PropertyUnit'}}},\n",
       "  '_represent': {'type': 'RepresentLayer',\n",
       "   'components': {'b07a3a67-02cd-4c31-bfb8-17815b8af156': {'type': 'FunnyRepresent'},\n",
       "    'fde6e05c-78e4-4cef-9d3d-05a3a2f10159': {'type': 'FunnyRepresent'},\n",
       "    'a7e3abd8-1335-4913-8d9f-5172b8b1b155': {'type': 'FunnyRepresent'},\n",
       "    '806d7fa8-49ac-4a8b-a175-66e33dbd2c74': {'type': 'FunnyRepresent'}}}}}"
      ]
     },
     "execution_count": 19,
     "metadata": {},
     "output_type": "execute_result"
    }
   ],
   "source": [
    "helloworld.metadata"
   ]
  },
  {
   "cell_type": "code",
   "execution_count": 20,
   "id": "799a07b7",
   "metadata": {},
   "outputs": [
    {
     "ename": "NotImplementedError",
     "evalue": "Phương thức save chưa được định nghĩa!",
     "output_type": "error",
     "traceback": [
      "\u001b[31m---------------------------------------------------------------------------\u001b[39m",
      "\u001b[31mNotImplementedError\u001b[39m                       Traceback (most recent call last)",
      "\u001b[36mCell\u001b[39m\u001b[36m \u001b[39m\u001b[32mIn[20]\u001b[39m\u001b[32m, line 1\u001b[39m\n\u001b[32m----> \u001b[39m\u001b[32m1\u001b[39m \u001b[43mhelloworld\u001b[49m\u001b[43m.\u001b[49m\u001b[43msave\u001b[49m\u001b[43m(\u001b[49m\u001b[43m)\u001b[49m\n",
      "\u001b[36mFile \u001b[39m\u001b[32me:\\simulations\\implementations\\notebooks\\..\\fgi\\problem\\base.py:57\u001b[39m, in \u001b[36msave\u001b[39m\u001b[34m(self, *args, **kwargs)\u001b[39m\n\u001b[32m      0\u001b[39m <Error retrieving source code with stack_data see ipython/ipython#13598>\n",
      "\u001b[31mNotImplementedError\u001b[39m: Phương thức save chưa được định nghĩa!"
     ]
    }
   ],
   "source": [
    "helloworld.save()"
   ]
  },
  {
   "cell_type": "code",
   "execution_count": null,
   "id": "ca82fe98",
   "metadata": {},
   "outputs": [],
   "source": []
  }
 ],
 "metadata": {
  "kernelspec": {
   "display_name": "Python 3",
   "language": "python",
   "name": "python3"
  },
  "language_info": {
   "codemirror_mode": {
    "name": "ipython",
    "version": 3
   },
   "file_extension": ".py",
   "mimetype": "text/x-python",
   "name": "python",
   "nbconvert_exporter": "python",
   "pygments_lexer": "ipython3",
   "version": "3.12.3"
  }
 },
 "nbformat": 4,
 "nbformat_minor": 5
}
